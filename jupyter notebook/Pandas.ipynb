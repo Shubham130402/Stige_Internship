{
 "cells": [
  {
   "cell_type": "code",
   "execution_count": 1,
   "id": "75bfc5c7",
   "metadata": {},
   "outputs": [],
   "source": [
    "#import the numpy library and aliasing as np\n",
    "import numpy as np\n",
    "#import the pandas library and aliasing as pd\n",
    "import pandas as pd"
   ]
  },
  {
   "cell_type": "code",
   "execution_count": 2,
   "id": "f103e1ba",
   "metadata": {},
   "outputs": [
    {
     "name": "stdout",
     "output_type": "stream",
     "text": [
      "Series([], dtype: float64)\n"
     ]
    },
    {
     "name": "stderr",
     "output_type": "stream",
     "text": [
      "C:\\Users\\Mohit Agarwal\\AppData\\Local\\Temp\\ipykernel_19808\\2943978948.py:1: FutureWarning: The default dtype for empty Series will be 'object' instead of 'float64' in a future version. Specify a dtype explicitly to silence this warning.\n",
      "  s= pd.Series()\n"
     ]
    }
   ],
   "source": [
    "s= pd.Series()\n",
    "print(s)"
   ]
  },
  {
   "cell_type": "code",
   "execution_count": 3,
   "id": "c9330cda",
   "metadata": {},
   "outputs": [
    {
     "name": "stdout",
     "output_type": "stream",
     "text": [
      "0    1.0\n",
      "1    2.0\n",
      "2    3.0\n",
      "3    4.0\n",
      "4    5.0\n",
      "5    3.0\n",
      "dtype: float32\n"
     ]
    }
   ],
   "source": [
    "data = np.array([1,2,3,4,5,3],dtype='f')\n",
    "s= pd.Series(data)\n",
    "print(s)"
   ]
  },
  {
   "cell_type": "code",
   "execution_count": 4,
   "id": "3888dcfa",
   "metadata": {},
   "outputs": [
    {
     "name": "stdout",
     "output_type": "stream",
     "text": [
      "100    1.0\n",
      "101    2.0\n",
      "102    3.0\n",
      "103    4.0\n",
      "104    5.0\n",
      "105    3.0\n",
      "dtype: float32\n"
     ]
    }
   ],
   "source": [
    "data = np.array([1,2,3,4,5,3],dtype='f')\n",
    "s= pd.Series(data,index = [100,101,102,103,104,105])\n",
    "print(s)"
   ]
  },
  {
   "cell_type": "code",
   "execution_count": 5,
   "id": "6ef36461",
   "metadata": {},
   "outputs": [
    {
     "name": "stdout",
     "output_type": "stream",
     "text": [
      "a    1.0\n",
      "b    2.0\n",
      "dtype: float64\n"
     ]
    }
   ],
   "source": [
    "data = {'a':1.,'b':2}\n",
    "s= pd.Series(data)\n",
    "print(s)"
   ]
  },
  {
   "cell_type": "code",
   "execution_count": 6,
   "id": "974cd72c",
   "metadata": {},
   "outputs": [
    {
     "name": "stdout",
     "output_type": "stream",
     "text": [
      "b    NaN\n",
      "a    1.0\n",
      "d    2.0\n",
      "dtype: float64\n"
     ]
    }
   ],
   "source": [
    "data = {'a':1.,'d':2}\n",
    "s= pd.Series(data,index=['b','a','d'])\n",
    "print(s)"
   ]
  },
  {
   "cell_type": "code",
   "execution_count": 7,
   "id": "48845eed",
   "metadata": {},
   "outputs": [
    {
     "name": "stdout",
     "output_type": "stream",
     "text": [
      "1    5\n",
      "2    5\n",
      "3    5\n",
      "4    5\n",
      "5    5\n",
      "dtype: int64\n"
     ]
    }
   ],
   "source": [
    "#If data is a scalar value, an index must be provided. The value will be repeated to match the length of index .\n",
    "s= pd.Series(5,index=[1,2,3,4,5])\n",
    "print(s)"
   ]
  },
  {
   "cell_type": "code",
   "execution_count": 8,
   "id": "4669b0c1",
   "metadata": {},
   "outputs": [
    {
     "name": "stdout",
     "output_type": "stream",
     "text": [
      "a    1\n",
      "b    2\n",
      "c    3\n",
      "d    4\n",
      "e    5\n",
      "dtype: int64\n"
     ]
    }
   ],
   "source": [
    "#Retrieve Data Using Label\n",
    "s = pd.Series([1,2,3,4,5],index =['a','b','c','d','e'])\n",
    "print(s)"
   ]
  },
  {
   "cell_type": "code",
   "execution_count": 9,
   "id": "b52635ed",
   "metadata": {},
   "outputs": [
    {
     "name": "stdout",
     "output_type": "stream",
     "text": [
      "1\n"
     ]
    }
   ],
   "source": [
    "print(s['a'])"
   ]
  },
  {
   "cell_type": "code",
   "execution_count": 10,
   "id": "07d58d8b",
   "metadata": {},
   "outputs": [
    {
     "name": "stdout",
     "output_type": "stream",
     "text": [
      "4\n"
     ]
    }
   ],
   "source": [
    "print(s['d'])"
   ]
  },
  {
   "cell_type": "code",
   "execution_count": 11,
   "id": "23df070b",
   "metadata": {},
   "outputs": [
    {
     "name": "stdout",
     "output_type": "stream",
     "text": [
      "a    1\n",
      "b    2\n",
      "e    5\n",
      "dtype: int64\n"
     ]
    }
   ],
   "source": [
    "print(s[['a','b','e']])"
   ]
  },
  {
   "cell_type": "code",
   "execution_count": 12,
   "id": "73664d15",
   "metadata": {},
   "outputs": [
    {
     "ename": "KeyError",
     "evalue": "'f'",
     "output_type": "error",
     "traceback": [
      "\u001b[1;31m---------------------------------------------------------------------------\u001b[0m",
      "\u001b[1;31mKeyError\u001b[0m                                  Traceback (most recent call last)",
      "File \u001b[1;32m~\\AppData\\Local\\Programs\\Python\\Python310\\lib\\site-packages\\pandas\\core\\indexes\\base.py:3621\u001b[0m, in \u001b[0;36mIndex.get_loc\u001b[1;34m(self, key, method, tolerance)\u001b[0m\n\u001b[0;32m   3620\u001b[0m \u001b[38;5;28;01mtry\u001b[39;00m:\n\u001b[1;32m-> 3621\u001b[0m     \u001b[38;5;28;01mreturn\u001b[39;00m \u001b[38;5;28;43mself\u001b[39;49m\u001b[38;5;241;43m.\u001b[39;49m\u001b[43m_engine\u001b[49m\u001b[38;5;241;43m.\u001b[39;49m\u001b[43mget_loc\u001b[49m\u001b[43m(\u001b[49m\u001b[43mcasted_key\u001b[49m\u001b[43m)\u001b[49m\n\u001b[0;32m   3622\u001b[0m \u001b[38;5;28;01mexcept\u001b[39;00m \u001b[38;5;167;01mKeyError\u001b[39;00m \u001b[38;5;28;01mas\u001b[39;00m err:\n",
      "File \u001b[1;32m~\\AppData\\Local\\Programs\\Python\\Python310\\lib\\site-packages\\pandas\\_libs\\index.pyx:136\u001b[0m, in \u001b[0;36mpandas._libs.index.IndexEngine.get_loc\u001b[1;34m()\u001b[0m\n",
      "File \u001b[1;32m~\\AppData\\Local\\Programs\\Python\\Python310\\lib\\site-packages\\pandas\\_libs\\index.pyx:163\u001b[0m, in \u001b[0;36mpandas._libs.index.IndexEngine.get_loc\u001b[1;34m()\u001b[0m\n",
      "File \u001b[1;32mpandas\\_libs\\hashtable_class_helper.pxi:5198\u001b[0m, in \u001b[0;36mpandas._libs.hashtable.PyObjectHashTable.get_item\u001b[1;34m()\u001b[0m\n",
      "File \u001b[1;32mpandas\\_libs\\hashtable_class_helper.pxi:5206\u001b[0m, in \u001b[0;36mpandas._libs.hashtable.PyObjectHashTable.get_item\u001b[1;34m()\u001b[0m\n",
      "\u001b[1;31mKeyError\u001b[0m: 'f'",
      "\nThe above exception was the direct cause of the following exception:\n",
      "\u001b[1;31mKeyError\u001b[0m                                  Traceback (most recent call last)",
      "Input \u001b[1;32mIn [12]\u001b[0m, in \u001b[0;36m<cell line: 1>\u001b[1;34m()\u001b[0m\n\u001b[1;32m----> 1\u001b[0m \u001b[38;5;28mprint\u001b[39m(\u001b[43ms\u001b[49m\u001b[43m[\u001b[49m\u001b[38;5;124;43m'\u001b[39;49m\u001b[38;5;124;43mf\u001b[39;49m\u001b[38;5;124;43m'\u001b[39;49m\u001b[43m]\u001b[49m)\n",
      "File \u001b[1;32m~\\AppData\\Local\\Programs\\Python\\Python310\\lib\\site-packages\\pandas\\core\\series.py:958\u001b[0m, in \u001b[0;36mSeries.__getitem__\u001b[1;34m(self, key)\u001b[0m\n\u001b[0;32m    955\u001b[0m     \u001b[38;5;28;01mreturn\u001b[39;00m \u001b[38;5;28mself\u001b[39m\u001b[38;5;241m.\u001b[39m_values[key]\n\u001b[0;32m    957\u001b[0m \u001b[38;5;28;01melif\u001b[39;00m key_is_scalar:\n\u001b[1;32m--> 958\u001b[0m     \u001b[38;5;28;01mreturn\u001b[39;00m \u001b[38;5;28;43mself\u001b[39;49m\u001b[38;5;241;43m.\u001b[39;49m\u001b[43m_get_value\u001b[49m\u001b[43m(\u001b[49m\u001b[43mkey\u001b[49m\u001b[43m)\u001b[49m\n\u001b[0;32m    960\u001b[0m \u001b[38;5;28;01mif\u001b[39;00m is_hashable(key):\n\u001b[0;32m    961\u001b[0m     \u001b[38;5;66;03m# Otherwise index.get_value will raise InvalidIndexError\u001b[39;00m\n\u001b[0;32m    962\u001b[0m     \u001b[38;5;28;01mtry\u001b[39;00m:\n\u001b[0;32m    963\u001b[0m         \u001b[38;5;66;03m# For labels that don't resolve as scalars like tuples and frozensets\u001b[39;00m\n",
      "File \u001b[1;32m~\\AppData\\Local\\Programs\\Python\\Python310\\lib\\site-packages\\pandas\\core\\series.py:1069\u001b[0m, in \u001b[0;36mSeries._get_value\u001b[1;34m(self, label, takeable)\u001b[0m\n\u001b[0;32m   1066\u001b[0m     \u001b[38;5;28;01mreturn\u001b[39;00m \u001b[38;5;28mself\u001b[39m\u001b[38;5;241m.\u001b[39m_values[label]\n\u001b[0;32m   1068\u001b[0m \u001b[38;5;66;03m# Similar to Index.get_value, but we do not fall back to positional\u001b[39;00m\n\u001b[1;32m-> 1069\u001b[0m loc \u001b[38;5;241m=\u001b[39m \u001b[38;5;28;43mself\u001b[39;49m\u001b[38;5;241;43m.\u001b[39;49m\u001b[43mindex\u001b[49m\u001b[38;5;241;43m.\u001b[39;49m\u001b[43mget_loc\u001b[49m\u001b[43m(\u001b[49m\u001b[43mlabel\u001b[49m\u001b[43m)\u001b[49m\n\u001b[0;32m   1070\u001b[0m \u001b[38;5;28;01mreturn\u001b[39;00m \u001b[38;5;28mself\u001b[39m\u001b[38;5;241m.\u001b[39mindex\u001b[38;5;241m.\u001b[39m_get_values_for_loc(\u001b[38;5;28mself\u001b[39m, loc, label)\n",
      "File \u001b[1;32m~\\AppData\\Local\\Programs\\Python\\Python310\\lib\\site-packages\\pandas\\core\\indexes\\base.py:3623\u001b[0m, in \u001b[0;36mIndex.get_loc\u001b[1;34m(self, key, method, tolerance)\u001b[0m\n\u001b[0;32m   3621\u001b[0m     \u001b[38;5;28;01mreturn\u001b[39;00m \u001b[38;5;28mself\u001b[39m\u001b[38;5;241m.\u001b[39m_engine\u001b[38;5;241m.\u001b[39mget_loc(casted_key)\n\u001b[0;32m   3622\u001b[0m \u001b[38;5;28;01mexcept\u001b[39;00m \u001b[38;5;167;01mKeyError\u001b[39;00m \u001b[38;5;28;01mas\u001b[39;00m err:\n\u001b[1;32m-> 3623\u001b[0m     \u001b[38;5;28;01mraise\u001b[39;00m \u001b[38;5;167;01mKeyError\u001b[39;00m(key) \u001b[38;5;28;01mfrom\u001b[39;00m \u001b[38;5;21;01merr\u001b[39;00m\n\u001b[0;32m   3624\u001b[0m \u001b[38;5;28;01mexcept\u001b[39;00m \u001b[38;5;167;01mTypeError\u001b[39;00m:\n\u001b[0;32m   3625\u001b[0m     \u001b[38;5;66;03m# If we have a listlike key, _check_indexing_error will raise\u001b[39;00m\n\u001b[0;32m   3626\u001b[0m     \u001b[38;5;66;03m#  InvalidIndexError. Otherwise we fall through and re-raise\u001b[39;00m\n\u001b[0;32m   3627\u001b[0m     \u001b[38;5;66;03m#  the TypeError.\u001b[39;00m\n\u001b[0;32m   3628\u001b[0m     \u001b[38;5;28mself\u001b[39m\u001b[38;5;241m.\u001b[39m_check_indexing_error(key)\n",
      "\u001b[1;31mKeyError\u001b[0m: 'f'"
     ]
    }
   ],
   "source": [
    "print(s['f'])"
   ]
  },
  {
   "cell_type": "code",
   "execution_count": null,
   "id": "51f3a33e",
   "metadata": {},
   "outputs": [],
   "source": [
    "print(s[0])"
   ]
  },
  {
   "cell_type": "code",
   "execution_count": null,
   "id": "4465b5b2",
   "metadata": {},
   "outputs": [],
   "source": [
    "print(s[:3])"
   ]
  },
  {
   "cell_type": "code",
   "execution_count": null,
   "id": "9acb2311",
   "metadata": {},
   "outputs": [],
   "source": [
    "print(s[-6:])"
   ]
  },
  {
   "cell_type": "code",
   "execution_count": null,
   "id": "0a48de50",
   "metadata": {},
   "outputs": [],
   "source": [
    "#dataframes\n",
    "#creating an empty dataframe \n",
    "df = pd.DataFrame()\n",
    "print(df)"
   ]
  },
  {
   "cell_type": "code",
   "execution_count": null,
   "id": "1d8447f7",
   "metadata": {},
   "outputs": [],
   "source": [
    "data= [[1,2,34,4],[34,5,3,2]]\n",
    "df = pd.DataFrame(data)\n",
    "print(df)"
   ]
  },
  {
   "cell_type": "code",
   "execution_count": null,
   "id": "3fc046fa",
   "metadata": {},
   "outputs": [],
   "source": [
    "data = [['Alex',10],['Bob',20],['Clarke',30]]\n",
    "df= pd.DataFrame(data,index=[1,2,3],columns=['Name','Age'])\n",
    "print(df)"
   ]
  },
  {
   "cell_type": "code",
   "execution_count": null,
   "id": "11f9c466",
   "metadata": {
    "scrolled": true
   },
   "outputs": [],
   "source": [
    "data = [['Alex',10],['Bob',20],['Clarke',30]]\n",
    "df= pd.DataFrame(data,index=[1,2,3],columns=['Name','Age'],dtype=float)\n",
    "print(df)"
   ]
  },
  {
   "cell_type": "code",
   "execution_count": null,
   "id": "b359f773",
   "metadata": {},
   "outputs": [],
   "source": [
    "#create a DataFramme from Dict of ndarrays/Lists\n",
    "data= {'Name':['Shubham','Garima','Prashant'],'Age':[21,22,21]}\n",
    "df= pd.DataFrame(data,index=['rank1','rank2','rank3'])\n",
    "print(df)"
   ]
  },
  {
   "cell_type": "code",
   "execution_count": null,
   "id": "7e5de5e2",
   "metadata": {},
   "outputs": [],
   "source": [
    "#create a DataFrame from List of Dicts\n",
    "data = [{'a':1,'b':2,'c':3},{'a':3,'b':4},{'a':6,'b':7,'c':8}]\n",
    "df =pd.DataFrame(data)\n",
    "print(df)"
   ]
  },
  {
   "cell_type": "code",
   "execution_count": null,
   "id": "7d69ac88",
   "metadata": {},
   "outputs": [],
   "source": [
    "#create a DataFrame from List of Dicts\n",
    "data = [{'a':1,'b':2,'c':3},{'a':3,'b':4},{'a':6,'b':7,'c':8}]\n",
    "df =pd.DataFrame(data,index=['first','second','third'])\n",
    "print(df)"
   ]
  },
  {
   "cell_type": "code",
   "execution_count": null,
   "id": "628c4cd1",
   "metadata": {},
   "outputs": [],
   "source": [
    "#panel"
   ]
  },
  {
   "cell_type": "code",
   "execution_count": null,
   "id": "5d0b6cbe",
   "metadata": {},
   "outputs": [],
   "source": [
    "data = np.random.rand(2,4,5)\n",
    "p = pd.Panel(data)\n",
    "print(p)"
   ]
  },
  {
   "cell_type": "code",
   "execution_count": null,
   "id": "05688e01",
   "metadata": {},
   "outputs": [],
   "source": [
    "data= np.array([1,2,3,5])\n",
    "p= pd.Panel(data)\n",
    "print(p)"
   ]
  },
  {
   "cell_type": "code",
   "execution_count": null,
   "id": "e9be0777",
   "metadata": {},
   "outputs": [],
   "source": [
    "print(np.__version__)\n",
    "print(pd.__version__)"
   ]
  },
  {
   "cell_type": "code",
   "execution_count": null,
   "id": "1a9f83a4",
   "metadata": {},
   "outputs": [],
   "source": [
    "p=pd.Panel()\n",
    "print(p)"
   ]
  },
  {
   "cell_type": "code",
   "execution_count": null,
   "id": "2545dd0b",
   "metadata": {},
   "outputs": [],
   "source": [
    "p= pd.Series(np.random.rand(5))\n",
    "print(p)"
   ]
  },
  {
   "cell_type": "code",
   "execution_count": null,
   "id": "68cf3ae5",
   "metadata": {},
   "outputs": [],
   "source": [
    "data ={'item':pd.Series([1,2,3])}\n",
    "p= pd.DataFrame(data)\n",
    "print(p)"
   ]
  },
  {
   "cell_type": "code",
   "execution_count": null,
   "id": "d64de548",
   "metadata": {},
   "outputs": [],
   "source": [
    "s= pd.Series(np.random.rand(4))\n",
    "print(\"The axes are : \")\n",
    "print(s.axes)"
   ]
  },
  {
   "cell_type": "code",
   "execution_count": null,
   "id": "3022e3cb",
   "metadata": {},
   "outputs": [],
   "source": [
    "print(s.empty)"
   ]
  },
  {
   "cell_type": "code",
   "execution_count": null,
   "id": "8eb5752d",
   "metadata": {},
   "outputs": [],
   "source": [
    "print(s.ndim)"
   ]
  },
  {
   "cell_type": "code",
   "execution_count": null,
   "id": "3942c1c8",
   "metadata": {},
   "outputs": [],
   "source": [
    "print(s)"
   ]
  },
  {
   "cell_type": "code",
   "execution_count": null,
   "id": "710cbf27",
   "metadata": {},
   "outputs": [],
   "source": [
    "print(s.size)"
   ]
  },
  {
   "cell_type": "code",
   "execution_count": null,
   "id": "86ab2687",
   "metadata": {},
   "outputs": [],
   "source": [
    "print(s.values)"
   ]
  },
  {
   "cell_type": "code",
   "execution_count": null,
   "id": "a54ada40",
   "metadata": {},
   "outputs": [],
   "source": [
    "p = pd.Series(np.random.rand(8))\n",
    "print(p)"
   ]
  },
  {
   "cell_type": "code",
   "execution_count": null,
   "id": "fc557e49",
   "metadata": {},
   "outputs": [],
   "source": [
    "print(p.tail())"
   ]
  },
  {
   "cell_type": "code",
   "execution_count": null,
   "id": "1d82ec37",
   "metadata": {},
   "outputs": [],
   "source": [
    "#transpose\n",
    "#create a dict of series\n",
    "data = {'name':pd.Series(['Shubham','Garima',\"Prashant\"]), 'age':pd.Series([1,2,3])}\n",
    "#create a dataframe\n",
    "df= pd.DataFrame(data)\n",
    "print(df)"
   ]
  },
  {
   "cell_type": "code",
   "execution_count": null,
   "id": "5d936b94",
   "metadata": {},
   "outputs": [],
   "source": [
    "print(df.T)"
   ]
  },
  {
   "cell_type": "code",
   "execution_count": null,
   "id": "e19f2c3a",
   "metadata": {},
   "outputs": [],
   "source": [
    "print(df.axes)"
   ]
  },
  {
   "cell_type": "code",
   "execution_count": null,
   "id": "15a33317",
   "metadata": {},
   "outputs": [],
   "source": [
    "print(df.dtypes)"
   ]
  },
  {
   "cell_type": "code",
   "execution_count": null,
   "id": "5c208570",
   "metadata": {},
   "outputs": [],
   "source": [
    "print(df.empty)"
   ]
  },
  {
   "cell_type": "code",
   "execution_count": null,
   "id": "e3c17fea",
   "metadata": {},
   "outputs": [],
   "source": [
    "print(df.ndim)"
   ]
  },
  {
   "cell_type": "code",
   "execution_count": null,
   "id": "20c1c14d",
   "metadata": {},
   "outputs": [],
   "source": [
    "print(df.shape\n",
    "     )"
   ]
  },
  {
   "cell_type": "code",
   "execution_count": null,
   "id": "c8313549",
   "metadata": {},
   "outputs": [],
   "source": [
    "df.size"
   ]
  },
  {
   "cell_type": "code",
   "execution_count": null,
   "id": "256100d9",
   "metadata": {},
   "outputs": [],
   "source": [
    "df.values"
   ]
  },
  {
   "cell_type": "code",
   "execution_count": 13,
   "id": "053de771",
   "metadata": {},
   "outputs": [
    {
     "ename": "NameError",
     "evalue": "name 'df' is not defined",
     "output_type": "error",
     "traceback": [
      "\u001b[1;31m---------------------------------------------------------------------------\u001b[0m",
      "\u001b[1;31mNameError\u001b[0m                                 Traceback (most recent call last)",
      "Input \u001b[1;32mIn [13]\u001b[0m, in \u001b[0;36m<cell line: 1>\u001b[1;34m()\u001b[0m\n\u001b[1;32m----> 1\u001b[0m \u001b[43mdf\u001b[49m\u001b[38;5;241m.\u001b[39mhead(\u001b[38;5;241m1\u001b[39m)\n",
      "\u001b[1;31mNameError\u001b[0m: name 'df' is not defined"
     ]
    }
   ],
   "source": [
    "df.head(1)"
   ]
  },
  {
   "cell_type": "code",
   "execution_count": 14,
   "id": "a0d5c2e2",
   "metadata": {},
   "outputs": [
    {
     "ename": "NameError",
     "evalue": "name 'df' is not defined",
     "output_type": "error",
     "traceback": [
      "\u001b[1;31m---------------------------------------------------------------------------\u001b[0m",
      "\u001b[1;31mNameError\u001b[0m                                 Traceback (most recent call last)",
      "Input \u001b[1;32mIn [14]\u001b[0m, in \u001b[0;36m<cell line: 1>\u001b[1;34m()\u001b[0m\n\u001b[1;32m----> 1\u001b[0m \u001b[43mdf\u001b[49m\u001b[38;5;241m.\u001b[39mtail(\u001b[38;5;241m1\u001b[39m)\n",
      "\u001b[1;31mNameError\u001b[0m: name 'df' is not defined"
     ]
    }
   ],
   "source": [
    "df.tail(1)"
   ]
  },
  {
   "cell_type": "code",
   "execution_count": null,
   "id": "700cf901",
   "metadata": {},
   "outputs": [],
   "source": [
    "#Create a Dictionary of series\n",
    "d = {'Name':pd.Series(['Tom','James','Ricky','Vin','Steve','Smith','Jack',\n",
    "   'Lee','David','Gasper','Betina','Andres']),\n",
    "   'Age':pd.Series([25,26,25,23,30,29,23,34,40,30,51,46]),\n",
    "   'Rating':pd.Series([4.23,3.24,3.98,2.56,3.20,4.6,3.8,3.78,2.98,4.80,4.10,3.65])\n",
    "}\n",
    "\n",
    "#Create a DataFrame\n",
    "df = pd.DataFrame(d)\n",
    "print( df.describe())"
   ]
  },
  {
   "cell_type": "code",
   "execution_count": 15,
   "id": "c61cc1a4",
   "metadata": {},
   "outputs": [
    {
     "ename": "NameError",
     "evalue": "name 'df' is not defined",
     "output_type": "error",
     "traceback": [
      "\u001b[1;31m---------------------------------------------------------------------------\u001b[0m",
      "\u001b[1;31mNameError\u001b[0m                                 Traceback (most recent call last)",
      "Input \u001b[1;32mIn [15]\u001b[0m, in \u001b[0;36m<cell line: 1>\u001b[1;34m()\u001b[0m\n\u001b[1;32m----> 1\u001b[0m \u001b[38;5;28mprint\u001b[39m(\u001b[43mdf\u001b[49m\u001b[38;5;241m.\u001b[39mdescribe(include\u001b[38;5;241m=\u001b[39m [\u001b[38;5;124m'\u001b[39m\u001b[38;5;124mobject\u001b[39m\u001b[38;5;124m'\u001b[39m]))\n",
      "\u001b[1;31mNameError\u001b[0m: name 'df' is not defined"
     ]
    }
   ],
   "source": [
    "print(df.describe(include= ['object']))"
   ]
  },
  {
   "cell_type": "code",
   "execution_count": null,
   "id": "542709bc",
   "metadata": {},
   "outputs": [],
   "source": [
    "print(df.describe(include= ['number']))"
   ]
  },
  {
   "cell_type": "code",
   "execution_count": 16,
   "id": "4c4fa1b9",
   "metadata": {},
   "outputs": [
    {
     "ename": "NameError",
     "evalue": "name 'df' is not defined",
     "output_type": "error",
     "traceback": [
      "\u001b[1;31m---------------------------------------------------------------------------\u001b[0m",
      "\u001b[1;31mNameError\u001b[0m                                 Traceback (most recent call last)",
      "Input \u001b[1;32mIn [16]\u001b[0m, in \u001b[0;36m<cell line: 1>\u001b[1;34m()\u001b[0m\n\u001b[1;32m----> 1\u001b[0m \u001b[38;5;28mprint\u001b[39m(\u001b[43mdf\u001b[49m\u001b[38;5;241m.\u001b[39mdescribe(include\u001b[38;5;241m=\u001b[39m \u001b[38;5;124m'\u001b[39m\u001b[38;5;124mall\u001b[39m\u001b[38;5;124m'\u001b[39m))\n",
      "\u001b[1;31mNameError\u001b[0m: name 'df' is not defined"
     ]
    }
   ],
   "source": [
    "print(df.describe(include= 'all'))"
   ]
  },
  {
   "cell_type": "code",
   "execution_count": 17,
   "id": "6b2c0ac7",
   "metadata": {},
   "outputs": [
    {
     "name": "stdout",
     "output_type": "stream",
     "text": [
      "col1    0.689421\n",
      "col2   -0.035661\n",
      "col3    0.189474\n",
      "dtype: float64\n"
     ]
    }
   ],
   "source": [
    "def adder(ele1,ele2):\n",
    "    return ele1+ele2\n",
    "df= pd.DataFrame(np.random.randn(5,3),columns=['col1','col2','col3'])\n",
    "df.pipe(adder,2)\n",
    "print(df.apply(np.mean))"
   ]
  },
  {
   "cell_type": "code",
   "execution_count": 18,
   "id": "4713a094",
   "metadata": {},
   "outputs": [
    {
     "name": "stdout",
     "output_type": "stream",
     "text": [
      "       col1      col2      col3\n",
      "0  1.300517 -0.691743 -0.516999\n",
      "1  0.013921 -1.664707  1.093334\n",
      "2 -1.125889 -0.276095 -0.119721\n",
      "3  2.200731 -1.355853 -1.481887\n",
      "4 -0.590806  0.801658  1.145920\n"
     ]
    }
   ],
   "source": [
    "def adder(ele1,ele2):\n",
    "    return ele1+ele2\n",
    "df= pd.DataFrame(np.random.randn(5,3),columns=['col1','col2','col3'])\n",
    "print(df)\n"
   ]
  },
  {
   "cell_type": "code",
   "execution_count": 19,
   "id": "82ef6474",
   "metadata": {},
   "outputs": [
    {
     "data": {
      "text/html": [
       "<div>\n",
       "<style scoped>\n",
       "    .dataframe tbody tr th:only-of-type {\n",
       "        vertical-align: middle;\n",
       "    }\n",
       "\n",
       "    .dataframe tbody tr th {\n",
       "        vertical-align: top;\n",
       "    }\n",
       "\n",
       "    .dataframe thead th {\n",
       "        text-align: right;\n",
       "    }\n",
       "</style>\n",
       "<table border=\"1\" class=\"dataframe\">\n",
       "  <thead>\n",
       "    <tr style=\"text-align: right;\">\n",
       "      <th></th>\n",
       "      <th>col1</th>\n",
       "      <th>col2</th>\n",
       "      <th>col3</th>\n",
       "    </tr>\n",
       "  </thead>\n",
       "  <tbody>\n",
       "    <tr>\n",
       "      <th>0</th>\n",
       "      <td>3.300517</td>\n",
       "      <td>1.308257</td>\n",
       "      <td>1.483001</td>\n",
       "    </tr>\n",
       "    <tr>\n",
       "      <th>1</th>\n",
       "      <td>2.013921</td>\n",
       "      <td>0.335293</td>\n",
       "      <td>3.093334</td>\n",
       "    </tr>\n",
       "    <tr>\n",
       "      <th>2</th>\n",
       "      <td>0.874111</td>\n",
       "      <td>1.723905</td>\n",
       "      <td>1.880279</td>\n",
       "    </tr>\n",
       "    <tr>\n",
       "      <th>3</th>\n",
       "      <td>4.200731</td>\n",
       "      <td>0.644147</td>\n",
       "      <td>0.518113</td>\n",
       "    </tr>\n",
       "    <tr>\n",
       "      <th>4</th>\n",
       "      <td>1.409194</td>\n",
       "      <td>2.801658</td>\n",
       "      <td>3.145920</td>\n",
       "    </tr>\n",
       "  </tbody>\n",
       "</table>\n",
       "</div>"
      ],
      "text/plain": [
       "       col1      col2      col3\n",
       "0  3.300517  1.308257  1.483001\n",
       "1  2.013921  0.335293  3.093334\n",
       "2  0.874111  1.723905  1.880279\n",
       "3  4.200731  0.644147  0.518113\n",
       "4  1.409194  2.801658  3.145920"
      ]
     },
     "execution_count": 19,
     "metadata": {},
     "output_type": "execute_result"
    }
   ],
   "source": [
    "df.pipe(adder,2)\n"
   ]
  },
  {
   "cell_type": "code",
   "execution_count": 20,
   "id": "57b64c50",
   "metadata": {},
   "outputs": [
    {
     "name": "stdout",
     "output_type": "stream",
     "text": [
      "<bound method NDFrame._add_numeric_operations.<locals>.mean of        col1      col2      col3\n",
      "0  1.300517 -0.691743 -0.516999\n",
      "1  0.013921 -1.664707  1.093334\n",
      "2 -1.125889 -0.276095 -0.119721\n",
      "3  2.200731 -1.355853 -1.481887\n",
      "4 -0.590806  0.801658  1.145920>\n"
     ]
    }
   ],
   "source": [
    "print(df.mean)"
   ]
  },
  {
   "cell_type": "code",
   "execution_count": 21,
   "id": "5435b9a3",
   "metadata": {},
   "outputs": [
    {
     "name": "stdout",
     "output_type": "stream",
     "text": [
      "col1    0.359695\n",
      "col2   -0.637348\n",
      "col3    0.024129\n",
      "dtype: float64\n"
     ]
    }
   ],
   "source": [
    "print(df.apply(np.mean))"
   ]
  },
  {
   "cell_type": "code",
   "execution_count": 22,
   "id": "a2d85dda",
   "metadata": {},
   "outputs": [
    {
     "name": "stdout",
     "output_type": "stream",
     "text": [
      "col1    0.359695\n",
      "col2   -0.637348\n",
      "col3    0.024129\n",
      "dtype: float64\n"
     ]
    }
   ],
   "source": [
    "df.apply(np.mean,axis=0)\n",
    "print(df.apply(np.mean))"
   ]
  },
  {
   "cell_type": "code",
   "execution_count": 23,
   "id": "e4c5903c",
   "metadata": {},
   "outputs": [
    {
     "name": "stdout",
     "output_type": "stream",
     "text": [
      "       col1      col2      col3\n",
      "0  1.300517 -0.691743 -0.516999\n",
      "1  0.013921 -1.664707  1.093334\n",
      "2 -1.125889 -0.276095 -0.119721\n",
      "3  2.200731 -1.355853 -1.481887\n",
      "4 -0.590806  0.801658  1.145920\n"
     ]
    }
   ],
   "source": [
    "print(df)"
   ]
  },
  {
   "cell_type": "code",
   "execution_count": 24,
   "id": "8bda874a",
   "metadata": {},
   "outputs": [
    {
     "data": {
      "text/plain": [
       "0    -69.174252\n",
       "1   -166.470669\n",
       "2    -27.609462\n",
       "3   -135.585281\n",
       "4     80.165826\n",
       "Name: col2, dtype: float64"
      ]
     },
     "execution_count": 24,
     "metadata": {},
     "output_type": "execute_result"
    }
   ],
   "source": [
    "#my custom function\n",
    "df['col2'].map(lambda x:x*100)\n"
   ]
  },
  {
   "cell_type": "code",
   "execution_count": 25,
   "id": "882307d9",
   "metadata": {},
   "outputs": [
    {
     "name": "stdout",
     "output_type": "stream",
     "text": [
      "col1    0.359695\n",
      "col2   -0.637348\n",
      "col3    0.024129\n",
      "dtype: float64\n"
     ]
    }
   ],
   "source": [
    "df.applymap(lambda x:x*100)\n",
    "print(df.apply(np.mean))"
   ]
  },
  {
   "cell_type": "code",
   "execution_count": 26,
   "id": "37239807",
   "metadata": {},
   "outputs": [
    {
     "name": "stdout",
     "output_type": "stream",
     "text": [
      "        col1      col2\n",
      "1  -1.145307  0.670299\n",
      "2  -0.653709  0.502578\n",
      "3  -0.780746 -0.092053\n",
      "4   2.080706  1.521029\n",
      "5   0.824737 -1.122642\n",
      "6   1.591630  1.365916\n",
      "7   1.385591 -2.339834\n",
      "8   0.690720 -0.064502\n",
      "9  -0.035649  1.156504\n",
      "10  0.326546  1.322778\n"
     ]
    }
   ],
   "source": [
    "# pandas sorting\n",
    "unsorted_df = pd.DataFrame(np.random.randn(10,2),index=[1,2,3,4,5,6,7,8,9,10],columns = ['col1','col2']\n",
    "                          )\n",
    "print(unsorted_df)"
   ]
  },
  {
   "cell_type": "code",
   "execution_count": 27,
   "id": "bad8f838",
   "metadata": {},
   "outputs": [
    {
     "name": "stdout",
     "output_type": "stream",
     "text": [
      "        col1      col2\n",
      "1  -1.145307  0.670299\n",
      "2  -0.653709  0.502578\n",
      "3  -0.780746 -0.092053\n",
      "4   2.080706  1.521029\n",
      "5   0.824737 -1.122642\n",
      "6   1.591630  1.365916\n",
      "7   1.385591 -2.339834\n",
      "8   0.690720 -0.064502\n",
      "9  -0.035649  1.156504\n",
      "10  0.326546  1.322778\n"
     ]
    }
   ],
   "source": [
    "sorted_df= unsorted_df.sort_index()\n",
    "print(sorted_df)"
   ]
  },
  {
   "cell_type": "code",
   "execution_count": 28,
   "id": "14066ad9",
   "metadata": {},
   "outputs": [
    {
     "name": "stdout",
     "output_type": "stream",
     "text": [
      "        col1      col2\n",
      "1  -1.145307  0.670299\n",
      "2  -0.653709  0.502578\n",
      "3  -0.780746 -0.092053\n",
      "4   2.080706  1.521029\n",
      "5   0.824737 -1.122642\n",
      "6   1.591630  1.365916\n",
      "7   1.385591 -2.339834\n",
      "8   0.690720 -0.064502\n",
      "9  -0.035649  1.156504\n",
      "10  0.326546  1.322778\n"
     ]
    }
   ],
   "source": [
    "sorted_df= unsorted_df.sort_index(ascending=True)\n",
    "print(sorted_df)"
   ]
  },
  {
   "cell_type": "code",
   "execution_count": 29,
   "id": "1e7d0456",
   "metadata": {},
   "outputs": [
    {
     "name": "stdout",
     "output_type": "stream",
     "text": [
      "        col1      col2\n",
      "1  -1.145307  0.670299\n",
      "2  -0.653709  0.502578\n",
      "3  -0.780746 -0.092053\n",
      "4   2.080706  1.521029\n",
      "5   0.824737 -1.122642\n",
      "6   1.591630  1.365916\n",
      "7   1.385591 -2.339834\n",
      "8   0.690720 -0.064502\n",
      "9  -0.035649  1.156504\n",
      "10  0.326546  1.322778\n"
     ]
    }
   ],
   "source": [
    "sorted_df= unsorted_df.sort_index(axis=1)\n",
    "print(sorted_df)"
   ]
  },
  {
   "cell_type": "code",
   "execution_count": 30,
   "id": "3f4b87a2",
   "metadata": {},
   "outputs": [
    {
     "name": "stdout",
     "output_type": "stream",
     "text": [
      "        col1      col2\n",
      "1  -1.145307  0.670299\n",
      "3  -0.780746 -0.092053\n",
      "2  -0.653709  0.502578\n",
      "9  -0.035649  1.156504\n",
      "10  0.326546  1.322778\n",
      "8   0.690720 -0.064502\n",
      "5   0.824737 -1.122642\n",
      "7   1.385591 -2.339834\n",
      "6   1.591630  1.365916\n",
      "4   2.080706  1.521029\n"
     ]
    }
   ],
   "source": [
    "sorted_df= unsorted_df.sort_values(by='col1')\n",
    "print(sorted_df)"
   ]
  },
  {
   "cell_type": "code",
   "execution_count": 31,
   "id": "b99d8694",
   "metadata": {},
   "outputs": [
    {
     "name": "stdout",
     "output_type": "stream",
     "text": [
      "        col1      col2\n",
      "1  -1.145307  0.670299\n",
      "3  -0.780746 -0.092053\n",
      "2  -0.653709  0.502578\n",
      "9  -0.035649  1.156504\n",
      "10  0.326546  1.322778\n",
      "8   0.690720 -0.064502\n",
      "5   0.824737 -1.122642\n",
      "7   1.385591 -2.339834\n",
      "6   1.591630  1.365916\n",
      "4   2.080706  1.521029\n"
     ]
    }
   ],
   "source": [
    "sorted_df= unsorted_df.sort_values(by=['col1','col2'])\n",
    "print(sorted_df)"
   ]
  },
  {
   "cell_type": "code",
   "execution_count": 32,
   "id": "4645e083",
   "metadata": {},
   "outputs": [
    {
     "name": "stdout",
     "output_type": "stream",
     "text": [
      "        col1      col2\n",
      "1  -1.145307  0.670299\n",
      "3  -0.780746 -0.092053\n",
      "2  -0.653709  0.502578\n",
      "9  -0.035649  1.156504\n",
      "10  0.326546  1.322778\n",
      "8   0.690720 -0.064502\n",
      "5   0.824737 -1.122642\n",
      "7   1.385591 -2.339834\n",
      "6   1.591630  1.365916\n",
      "4   2.080706  1.521029\n"
     ]
    }
   ],
   "source": [
    "sorted_df = unsorted_df.sort_values(by='col1',kind='mergesort')\n",
    "print(sorted_df)"
   ]
  },
  {
   "cell_type": "code",
   "execution_count": 33,
   "id": "00dc1d8f",
   "metadata": {},
   "outputs": [
    {
     "name": "stdout",
     "output_type": "stream",
     "text": [
      "          A         B         C         D\n",
      "a -0.093637  0.375985 -2.130774  0.130749\n",
      "b  1.251545 -0.764995  0.545554 -0.866068\n",
      "c  1.810843 -1.114986 -0.325040  1.493152\n",
      "d  0.692705 -0.515531 -0.823388 -1.715001\n",
      "e  0.021997  0.320062  1.048023 -0.742281\n",
      "f -0.338775  1.866879  1.764436 -0.037263\n",
      "g  0.643073 -0.180486 -0.010848 -2.960591\n",
      "h -0.299933 -0.317382 -0.299844  2.181939\n"
     ]
    }
   ],
   "source": [
    "df = pd.DataFrame(np.random.randn(8, 4),\n",
    "index = ['a','b','c','d','e','f','g','h'], columns = ['A', 'B', 'C', 'D'])\n",
    "print(df)"
   ]
  },
  {
   "cell_type": "code",
   "execution_count": 34,
   "id": "9ebcaaff",
   "metadata": {},
   "outputs": [
    {
     "name": "stdout",
     "output_type": "stream",
     "text": [
      "-0.09363673884020302\n"
     ]
    }
   ],
   "source": [
    "print(df.loc['a','A'])"
   ]
  },
  {
   "cell_type": "code",
   "execution_count": 35,
   "id": "83f0b1f8",
   "metadata": {},
   "outputs": [
    {
     "name": "stdout",
     "output_type": "stream",
     "text": [
      "          A         B         C\n",
      "a -0.093637  0.375985 -2.130774\n",
      "b  1.251545 -0.764995  0.545554\n",
      "c  1.810843 -1.114986 -0.325040\n"
     ]
    }
   ],
   "source": [
    "print(df.loc[['a','b','c'],['A','B','C']])"
   ]
  },
  {
   "cell_type": "code",
   "execution_count": 36,
   "id": "87cae961",
   "metadata": {},
   "outputs": [
    {
     "name": "stdout",
     "output_type": "stream",
     "text": [
      "          A         B         C         D\n",
      "a -0.093637  0.375985 -2.130774  0.130749\n",
      "b  1.251545 -0.764995  0.545554 -0.866068\n",
      "c  1.810843 -1.114986 -0.325040  1.493152\n",
      "d  0.692705 -0.515531 -0.823388 -1.715001\n",
      "e  0.021997  0.320062  1.048023 -0.742281\n",
      "f -0.338775  1.866879  1.764436 -0.037263\n",
      "g  0.643073 -0.180486 -0.010848 -2.960591\n",
      "h -0.299933 -0.317382 -0.299844  2.181939\n"
     ]
    }
   ],
   "source": [
    "print(df.loc['a':'h'])"
   ]
  },
  {
   "cell_type": "code",
   "execution_count": 37,
   "id": "08c767a5",
   "metadata": {},
   "outputs": [
    {
     "name": "stdout",
     "output_type": "stream",
     "text": [
      "A    False\n",
      "B     True\n",
      "C    False\n",
      "D     True\n",
      "Name: a, dtype: bool\n"
     ]
    }
   ],
   "source": [
    "print(df.loc['a']>0)"
   ]
  },
  {
   "cell_type": "code",
   "execution_count": 38,
   "id": "d0f10e76",
   "metadata": {},
   "outputs": [
    {
     "name": "stdout",
     "output_type": "stream",
     "text": [
      "A    1.251545\n",
      "B   -0.764995\n",
      "C    0.545554\n",
      "Name: b, dtype: float64\n"
     ]
    }
   ],
   "source": [
    "print(df.iloc[1,:3])"
   ]
  },
  {
   "cell_type": "code",
   "execution_count": 39,
   "id": "32549692",
   "metadata": {},
   "outputs": [
    {
     "name": "stdout",
     "output_type": "stream",
     "text": [
      "          A         B\n",
      "a -0.093637  0.375985\n",
      "b  1.251545 -0.764995\n",
      "c  1.810843 -1.114986\n",
      "d  0.692705 -0.515531\n",
      "e  0.021997  0.320062\n",
      "f -0.338775  1.866879\n",
      "g  0.643073 -0.180486\n",
      "h -0.299933 -0.317382\n"
     ]
    }
   ],
   "source": [
    "print(df.iloc[:,0:2])"
   ]
  },
  {
   "cell_type": "code",
   "execution_count": 40,
   "id": "c665bf6d",
   "metadata": {},
   "outputs": [
    {
     "name": "stdout",
     "output_type": "stream",
     "text": [
      "          B         C\n",
      "b -0.764995  0.545554\n",
      "c -1.114986 -0.325040\n"
     ]
    }
   ],
   "source": [
    "print(df.iloc[1:3,1:3])"
   ]
  },
  {
   "cell_type": "code",
   "execution_count": 41,
   "id": "86c15c23",
   "metadata": {},
   "outputs": [
    {
     "ename": "AttributeError",
     "evalue": "'DataFrame' object has no attribute 'ix'",
     "output_type": "error",
     "traceback": [
      "\u001b[1;31m---------------------------------------------------------------------------\u001b[0m",
      "\u001b[1;31mAttributeError\u001b[0m                            Traceback (most recent call last)",
      "Input \u001b[1;32mIn [41]\u001b[0m, in \u001b[0;36m<cell line: 3>\u001b[1;34m()\u001b[0m\n\u001b[0;32m      1\u001b[0m \u001b[38;5;66;03m#ix() method\u001b[39;00m\n\u001b[1;32m----> 3\u001b[0m \u001b[38;5;28mprint\u001b[39m(\u001b[43mdf\u001b[49m\u001b[38;5;241;43m.\u001b[39;49m\u001b[43mix\u001b[49m[:\u001b[38;5;241m4\u001b[39m])\n",
      "File \u001b[1;32m~\\AppData\\Local\\Programs\\Python\\Python310\\lib\\site-packages\\pandas\\core\\generic.py:5583\u001b[0m, in \u001b[0;36mNDFrame.__getattr__\u001b[1;34m(self, name)\u001b[0m\n\u001b[0;32m   5576\u001b[0m \u001b[38;5;28;01mif\u001b[39;00m (\n\u001b[0;32m   5577\u001b[0m     name \u001b[38;5;129;01mnot\u001b[39;00m \u001b[38;5;129;01min\u001b[39;00m \u001b[38;5;28mself\u001b[39m\u001b[38;5;241m.\u001b[39m_internal_names_set\n\u001b[0;32m   5578\u001b[0m     \u001b[38;5;129;01mand\u001b[39;00m name \u001b[38;5;129;01mnot\u001b[39;00m \u001b[38;5;129;01min\u001b[39;00m \u001b[38;5;28mself\u001b[39m\u001b[38;5;241m.\u001b[39m_metadata\n\u001b[0;32m   5579\u001b[0m     \u001b[38;5;129;01mand\u001b[39;00m name \u001b[38;5;129;01mnot\u001b[39;00m \u001b[38;5;129;01min\u001b[39;00m \u001b[38;5;28mself\u001b[39m\u001b[38;5;241m.\u001b[39m_accessors\n\u001b[0;32m   5580\u001b[0m     \u001b[38;5;129;01mand\u001b[39;00m \u001b[38;5;28mself\u001b[39m\u001b[38;5;241m.\u001b[39m_info_axis\u001b[38;5;241m.\u001b[39m_can_hold_identifiers_and_holds_name(name)\n\u001b[0;32m   5581\u001b[0m ):\n\u001b[0;32m   5582\u001b[0m     \u001b[38;5;28;01mreturn\u001b[39;00m \u001b[38;5;28mself\u001b[39m[name]\n\u001b[1;32m-> 5583\u001b[0m \u001b[38;5;28;01mreturn\u001b[39;00m \u001b[38;5;28;43mobject\u001b[39;49m\u001b[38;5;241;43m.\u001b[39;49m\u001b[38;5;21;43m__getattribute__\u001b[39;49m\u001b[43m(\u001b[49m\u001b[38;5;28;43mself\u001b[39;49m\u001b[43m,\u001b[49m\u001b[43m \u001b[49m\u001b[43mname\u001b[49m\u001b[43m)\u001b[49m\n",
      "\u001b[1;31mAttributeError\u001b[0m: 'DataFrame' object has no attribute 'ix'"
     ]
    }
   ],
   "source": [
    "#ix() method\n",
    "\n",
    "print(df.ix[:4])"
   ]
  },
  {
   "cell_type": "code",
   "execution_count": null,
   "id": "e74ebc37",
   "metadata": {},
   "outputs": [],
   "source": [
    "print(df['A'])"
   ]
  },
  {
   "cell_type": "code",
   "execution_count": null,
   "id": "90157873",
   "metadata": {},
   "outputs": [],
   "source": [
    "print(df[['A','B']])"
   ]
  },
  {
   "cell_type": "code",
   "execution_count": null,
   "id": "5eb69c59",
   "metadata": {},
   "outputs": [],
   "source": [
    "print(df[1:1])"
   ]
  },
  {
   "cell_type": "code",
   "execution_count": null,
   "id": "cb1d6bd9",
   "metadata": {},
   "outputs": [],
   "source": [
    "print(df.A)"
   ]
  },
  {
   "cell_type": "code",
   "execution_count": null,
   "id": "0bcfa45d",
   "metadata": {},
   "outputs": [],
   "source": [
    "df = pd.Series([10,2,3,4,5,2])\n",
    "print(df.pct_change())"
   ]
  },
  {
   "cell_type": "code",
   "execution_count": null,
   "id": "b0f0c855",
   "metadata": {},
   "outputs": [],
   "source": [
    "s= pd.DataFrame(np.random.randn(10,2),index=[1,2,3,4,5,6,7,8,9,10])\n",
    "print(s)"
   ]
  },
  {
   "cell_type": "code",
   "execution_count": null,
   "id": "36f0d7ae",
   "metadata": {
    "scrolled": true
   },
   "outputs": [],
   "source": [
    "print(s.rank(),ascending=False)"
   ]
  },
  {
   "cell_type": "code",
   "execution_count": null,
   "id": "17aea0c2",
   "metadata": {},
   "outputs": [],
   "source": [
    "df = pd.DataFrame(np.random.randn(5,3), index=['a','b','c','e','g'],columns=['one','two','three'])\n",
    "df = df.reindex(['a','b','c','d','e','f','g','h'])\n",
    "df"
   ]
  },
  {
   "cell_type": "code",
   "execution_count": null,
   "id": "1b0d2bcf",
   "metadata": {},
   "outputs": [],
   "source": [
    "print(df['one'].notnull())"
   ]
  },
  {
   "cell_type": "code",
   "execution_count": null,
   "id": "13f3742d",
   "metadata": {},
   "outputs": [],
   "source": [
    "print(df['one'])\n"
   ]
  },
  {
   "cell_type": "code",
   "execution_count": null,
   "id": "3bb29b99",
   "metadata": {},
   "outputs": [],
   "source": [
    "print(df['one'].sum())"
   ]
  },
  {
   "cell_type": "code",
   "execution_count": null,
   "id": "3b5d2c62",
   "metadata": {},
   "outputs": [],
   "source": [
    "df.fillna(0,inplace=True)"
   ]
  },
  {
   "cell_type": "code",
   "execution_count": null,
   "id": "e7630987",
   "metadata": {},
   "outputs": [],
   "source": [
    "print(df)"
   ]
  },
  {
   "cell_type": "code",
   "execution_count": null,
   "id": "f155f742",
   "metadata": {},
   "outputs": [],
   "source": [
    "df= pd.DataFrame(np.random.randn(5,3),index=['a','b','c','e','f'],columns=['one','two','three'])\n",
    "df"
   ]
  },
  {
   "cell_type": "code",
   "execution_count": null,
   "id": "50a173cd",
   "metadata": {},
   "outputs": [],
   "source": [
    "df=df.reindex(['a','b','c','d','e','f','g'])\n",
    "df"
   ]
  },
  {
   "cell_type": "code",
   "execution_count": null,
   "id": "f0157585",
   "metadata": {},
   "outputs": [],
   "source": [
    "df.fillna(0,inplace=True)\n",
    "df"
   ]
  },
  {
   "cell_type": "code",
   "execution_count": 44,
   "id": "0147a5ee",
   "metadata": {},
   "outputs": [
    {
     "name": "stdout",
     "output_type": "stream",
     "text": [
      "        one       two     three\n",
      "a -0.286477 -0.634486 -0.157643\n",
      "b -0.286477 -0.634486 -0.157643\n",
      "c  0.571508  0.183871  0.197547\n",
      "d  0.571508  0.183871  0.197547\n",
      "e  0.640150  0.408058  1.526175\n",
      "f  0.576420  1.550755 -0.019961\n",
      "g  0.576420  1.550755 -0.019961\n",
      "h -0.868958  0.136609  0.772870\n"
     ]
    }
   ],
   "source": [
    "df = pd.DataFrame(np.random.randn(5, 3), index=['a', 'c', 'e', 'f',\n",
    "'h'],columns=['one', 'two', 'three'])\n",
    "\n",
    "df = df.reindex(['a', 'b', 'c', 'd', 'e', 'f', 'g', 'h'])\n",
    "#fill method forward\n",
    "print(df.fillna(method='pad'))"
   ]
  },
  {
   "cell_type": "code",
   "execution_count": 45,
   "id": "3a9d0fe5",
   "metadata": {},
   "outputs": [
    {
     "name": "stdout",
     "output_type": "stream",
     "text": [
      "        one       two     three\n",
      "a  0.669553  0.018873 -1.057902\n",
      "b -0.561365  2.035230  0.318577\n",
      "c -0.561365  2.035230  0.318577\n",
      "d  0.062568  1.411720 -1.396612\n",
      "e  0.062568  1.411720 -1.396612\n",
      "f  1.237139 -1.394462 -2.451685\n",
      "g -0.259665 -1.058519  0.009281\n",
      "h -0.259665 -1.058519  0.009281\n"
     ]
    }
   ],
   "source": [
    "df = pd.DataFrame(np.random.randn(5, 3), index=['a', 'c', 'e', 'f',\n",
    "'h'],columns=['one', 'two', 'three'])\n",
    "\n",
    "df = df.reindex(['a', 'b', 'c', 'd', 'e', 'f', 'g', 'h'])\n",
    "#fill method backward\n",
    "print(df.fillna(method='backfill'))"
   ]
  },
  {
   "cell_type": "code",
   "execution_count": 49,
   "id": "8be73977",
   "metadata": {},
   "outputs": [
    {
     "name": "stdout",
     "output_type": "stream",
     "text": [
      "Empty DataFrame\n",
      "Columns: []\n",
      "Index: [a, b, c, d, e, f, g, h]\n"
     ]
    }
   ],
   "source": [
    "df = pd.DataFrame(np.random.randn(5, 3), index=['a', 'c', 'e', 'f',\n",
    "'h'],columns=['one', 'two', 'three'])\n",
    "\n",
    "df = df.reindex(['a', 'b', 'c', 'd', 'e', 'f', 'g', 'h'])\n",
    "#drop missing values\n",
    "print(df.dropna(axis=1))"
   ]
  },
  {
   "cell_type": "code",
   "execution_count": 55,
   "id": "481a11a4",
   "metadata": {},
   "outputs": [
    {
     "name": "stdout",
     "output_type": "stream",
     "text": [
      "   one  two\n",
      "0   10   10\n",
      "1   20    0\n",
      "2   30   30\n",
      "3   40   40\n",
      "4   50   50\n",
      "5   60   60\n",
      "    one   two\n",
      "0    10  1000\n",
      "1    20    10\n",
      "2    30    30\n",
      "3    40    40\n",
      "4    50    50\n",
      "5  2000    60\n"
     ]
    }
   ],
   "source": [
    "df = pd.DataFrame({'one':[10,20,30,40,50,2000], 'two':[1000,0,30,40,50,60]})\n",
    "print(df.replace({1000:10,2000:60}))\n"
   ]
  },
  {
   "cell_type": "code",
   "execution_count": null,
   "id": "8a3311f4",
   "metadata": {},
   "outputs": [],
   "source": []
  },
  {
   "cell_type": "code",
   "execution_count": null,
   "id": "274c2034",
   "metadata": {},
   "outputs": [],
   "source": []
  },
  {
   "cell_type": "code",
   "execution_count": null,
   "id": "4c106cab",
   "metadata": {},
   "outputs": [],
   "source": []
  },
  {
   "cell_type": "code",
   "execution_count": null,
   "id": "69e2c2c6",
   "metadata": {},
   "outputs": [],
   "source": []
  },
  {
   "cell_type": "code",
   "execution_count": null,
   "id": "0a59b772",
   "metadata": {},
   "outputs": [],
   "source": []
  }
 ],
 "metadata": {
  "kernelspec": {
   "display_name": "Python 3 (ipykernel)",
   "language": "python",
   "name": "python3"
  },
  "language_info": {
   "codemirror_mode": {
    "name": "ipython",
    "version": 3
   },
   "file_extension": ".py",
   "mimetype": "text/x-python",
   "name": "python",
   "nbconvert_exporter": "python",
   "pygments_lexer": "ipython3",
   "version": "3.10.2"
  }
 },
 "nbformat": 4,
 "nbformat_minor": 5
}
